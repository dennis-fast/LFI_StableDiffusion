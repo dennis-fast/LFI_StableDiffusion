{
 "cells": [
  {
   "cell_type": "markdown",
   "id": "657d761f",
   "metadata": {},
   "source": [
    "__Libraries__"
   ]
  },
  {
   "cell_type": "code",
   "execution_count": 75,
   "id": "53eb327c",
   "metadata": {},
   "outputs": [],
   "source": [
    "import os\n",
    "import shutil\n",
    "import random\n",
    "from collections import Counter\n",
    "import numpy as np\n",
    "import itertools\n",
    "from sklearn.metrics import confusion_matrix\n",
    "from keras.preprocessing.image import ImageDataGenerator\n",
    "from keras.layers import Activation, Dense\n",
    "import tensorflow as tf\n",
    "from tensorflow.keras.models import Model\n",
    "import matplotlib.pyplot as plt"
   ]
  },
  {
   "cell_type": "markdown",
   "id": "34dcd9dc",
   "metadata": {},
   "source": [
    "__Convolutional Neural Network Setup__"
   ]
  },
  {
   "cell_type": "code",
   "execution_count": 76,
   "id": "8674a3b5",
   "metadata": {},
   "outputs": [],
   "source": [
    "file_location = os.getcwd()\n",
    "\n",
    "train_path = file_location+\"/data/train\"\n",
    "valid_path = file_location+\"/data/valid\"\n",
    "test_path = file_location+\"/data/test\"\n",
    "test_TI_SD1_path = file_location+\"/data/TISD1\"\n",
    "test_TI_SD2_path = file_location+\"/data/TISD2\""
   ]
  },
  {
   "cell_type": "code",
   "execution_count": 77,
   "id": "e36d6326",
   "metadata": {},
   "outputs": [
    {
     "name": "stdout",
     "output_type": "stream",
     "text": [
      "Found 330 images belonging to 5 classes.\n",
      "Found 75 images belonging to 5 classes.\n",
      "Found 25 images belonging to 5 classes.\n",
      "Found 24 images belonging to 1 classes.\n",
      "Found 24 images belonging to 1 classes.\n"
     ]
    }
   ],
   "source": [
    "train_batches = ImageDataGenerator(preprocessing_function = tf.keras.applications.mobilenet.preprocess_input).flow_from_directory(directory=train_path, target_size=(224,224), batch_size=10)\n",
    "\n",
    "valid_batches = ImageDataGenerator(preprocessing_function = tf.keras.applications.mobilenet.preprocess_input).flow_from_directory(directory=valid_path, target_size=(224,224), batch_size=10)\n",
    "\n",
    "test_batches = ImageDataGenerator(preprocessing_function = tf.keras.applications.mobilenet.preprocess_input).flow_from_directory(directory=test_path,target_size=(224,224), batch_size=10, shuffle=False)\n",
    "\n",
    "TISD1_batches = ImageDataGenerator(preprocessing_function = tf.keras.applications.mobilenet.preprocess_input).flow_from_directory(directory=test_TI_SD1_path,target_size=(224,224), batch_size=10, shuffle=False)\n",
    "\n",
    "TISD2_batches = ImageDataGenerator(preprocessing_function = tf.keras.applications.mobilenet.preprocess_input).flow_from_directory(directory=test_TI_SD2_path,target_size=(224,224), batch_size=10, shuffle=False)"
   ]
  },
  {
   "cell_type": "code",
   "execution_count": 78,
   "id": "a9265dbf",
   "metadata": {},
   "outputs": [],
   "source": [
    "mobile = tf.keras.applications.mobilenet.MobileNet()\n",
    "#mobile.summary()"
   ]
  },
  {
   "cell_type": "code",
   "execution_count": 79,
   "id": "cc7d71fd",
   "metadata": {},
   "outputs": [],
   "source": [
    "x = mobile.layers[-1].output\n",
    "output = Dense(units=5, activation=\"softmax\")(x)"
   ]
  },
  {
   "cell_type": "code",
   "execution_count": 80,
   "id": "e0f3a6a2",
   "metadata": {},
   "outputs": [],
   "source": [
    "model = Model(inputs=mobile.input, outputs=output)"
   ]
  },
  {
   "cell_type": "code",
   "execution_count": 81,
   "id": "b29b7a61",
   "metadata": {},
   "outputs": [],
   "source": [
    "for layer in model.layers[:-23]:\n",
    "    layer.trainable = False"
   ]
  },
  {
   "cell_type": "code",
   "execution_count": 82,
   "id": "9dd33b99",
   "metadata": {
    "scrolled": false
   },
   "outputs": [
    {
     "name": "stdout",
     "output_type": "stream",
     "text": [
      "Model: \"model_2\"\n",
      "_________________________________________________________________\n",
      " Layer (type)                Output Shape              Param #   \n",
      "=================================================================\n",
      " input_3 (InputLayer)        [(None, 224, 224, 3)]     0         \n",
      "                                                                 \n",
      " conv1 (Conv2D)              (None, 112, 112, 32)      864       \n",
      "                                                                 \n",
      " conv1_bn (BatchNormalizatio  (None, 112, 112, 32)     128       \n",
      " n)                                                              \n",
      "                                                                 \n",
      " conv1_relu (ReLU)           (None, 112, 112, 32)      0         \n",
      "                                                                 \n",
      " conv_dw_1 (DepthwiseConv2D)  (None, 112, 112, 32)     288       \n",
      "                                                                 \n",
      " conv_dw_1_bn (BatchNormaliz  (None, 112, 112, 32)     128       \n",
      " ation)                                                          \n",
      "                                                                 \n",
      " conv_dw_1_relu (ReLU)       (None, 112, 112, 32)      0         \n",
      "                                                                 \n",
      " conv_pw_1 (Conv2D)          (None, 112, 112, 64)      2048      \n",
      "                                                                 \n",
      " conv_pw_1_bn (BatchNormaliz  (None, 112, 112, 64)     256       \n",
      " ation)                                                          \n",
      "                                                                 \n",
      " conv_pw_1_relu (ReLU)       (None, 112, 112, 64)      0         \n",
      "                                                                 \n",
      " conv_pad_2 (ZeroPadding2D)  (None, 113, 113, 64)      0         \n",
      "                                                                 \n",
      " conv_dw_2 (DepthwiseConv2D)  (None, 56, 56, 64)       576       \n",
      "                                                                 \n",
      " conv_dw_2_bn (BatchNormaliz  (None, 56, 56, 64)       256       \n",
      " ation)                                                          \n",
      "                                                                 \n",
      " conv_dw_2_relu (ReLU)       (None, 56, 56, 64)        0         \n",
      "                                                                 \n",
      " conv_pw_2 (Conv2D)          (None, 56, 56, 128)       8192      \n",
      "                                                                 \n",
      " conv_pw_2_bn (BatchNormaliz  (None, 56, 56, 128)      512       \n",
      " ation)                                                          \n",
      "                                                                 \n",
      " conv_pw_2_relu (ReLU)       (None, 56, 56, 128)       0         \n",
      "                                                                 \n",
      " conv_dw_3 (DepthwiseConv2D)  (None, 56, 56, 128)      1152      \n",
      "                                                                 \n",
      " conv_dw_3_bn (BatchNormaliz  (None, 56, 56, 128)      512       \n",
      " ation)                                                          \n",
      "                                                                 \n",
      " conv_dw_3_relu (ReLU)       (None, 56, 56, 128)       0         \n",
      "                                                                 \n",
      " conv_pw_3 (Conv2D)          (None, 56, 56, 128)       16384     \n",
      "                                                                 \n",
      " conv_pw_3_bn (BatchNormaliz  (None, 56, 56, 128)      512       \n",
      " ation)                                                          \n",
      "                                                                 \n",
      " conv_pw_3_relu (ReLU)       (None, 56, 56, 128)       0         \n",
      "                                                                 \n",
      " conv_pad_4 (ZeroPadding2D)  (None, 57, 57, 128)       0         \n",
      "                                                                 \n",
      " conv_dw_4 (DepthwiseConv2D)  (None, 28, 28, 128)      1152      \n",
      "                                                                 \n",
      " conv_dw_4_bn (BatchNormaliz  (None, 28, 28, 128)      512       \n",
      " ation)                                                          \n",
      "                                                                 \n",
      " conv_dw_4_relu (ReLU)       (None, 28, 28, 128)       0         \n",
      "                                                                 \n",
      " conv_pw_4 (Conv2D)          (None, 28, 28, 256)       32768     \n",
      "                                                                 \n",
      " conv_pw_4_bn (BatchNormaliz  (None, 28, 28, 256)      1024      \n",
      " ation)                                                          \n",
      "                                                                 \n",
      " conv_pw_4_relu (ReLU)       (None, 28, 28, 256)       0         \n",
      "                                                                 \n",
      " conv_dw_5 (DepthwiseConv2D)  (None, 28, 28, 256)      2304      \n",
      "                                                                 \n",
      " conv_dw_5_bn (BatchNormaliz  (None, 28, 28, 256)      1024      \n",
      " ation)                                                          \n",
      "                                                                 \n",
      " conv_dw_5_relu (ReLU)       (None, 28, 28, 256)       0         \n",
      "                                                                 \n",
      " conv_pw_5 (Conv2D)          (None, 28, 28, 256)       65536     \n",
      "                                                                 \n",
      " conv_pw_5_bn (BatchNormaliz  (None, 28, 28, 256)      1024      \n",
      " ation)                                                          \n",
      "                                                                 \n",
      " conv_pw_5_relu (ReLU)       (None, 28, 28, 256)       0         \n",
      "                                                                 \n",
      " conv_pad_6 (ZeroPadding2D)  (None, 29, 29, 256)       0         \n",
      "                                                                 \n",
      " conv_dw_6 (DepthwiseConv2D)  (None, 14, 14, 256)      2304      \n",
      "                                                                 \n",
      " conv_dw_6_bn (BatchNormaliz  (None, 14, 14, 256)      1024      \n",
      " ation)                                                          \n",
      "                                                                 \n",
      " conv_dw_6_relu (ReLU)       (None, 14, 14, 256)       0         \n",
      "                                                                 \n",
      " conv_pw_6 (Conv2D)          (None, 14, 14, 512)       131072    \n",
      "                                                                 \n",
      " conv_pw_6_bn (BatchNormaliz  (None, 14, 14, 512)      2048      \n",
      " ation)                                                          \n",
      "                                                                 \n",
      " conv_pw_6_relu (ReLU)       (None, 14, 14, 512)       0         \n",
      "                                                                 \n",
      " conv_dw_7 (DepthwiseConv2D)  (None, 14, 14, 512)      4608      \n",
      "                                                                 \n",
      " conv_dw_7_bn (BatchNormaliz  (None, 14, 14, 512)      2048      \n",
      " ation)                                                          \n",
      "                                                                 \n",
      " conv_dw_7_relu (ReLU)       (None, 14, 14, 512)       0         \n",
      "                                                                 \n",
      " conv_pw_7 (Conv2D)          (None, 14, 14, 512)       262144    \n",
      "                                                                 \n",
      " conv_pw_7_bn (BatchNormaliz  (None, 14, 14, 512)      2048      \n",
      " ation)                                                          \n",
      "                                                                 \n",
      " conv_pw_7_relu (ReLU)       (None, 14, 14, 512)       0         \n",
      "                                                                 \n",
      " conv_dw_8 (DepthwiseConv2D)  (None, 14, 14, 512)      4608      \n",
      "                                                                 \n",
      " conv_dw_8_bn (BatchNormaliz  (None, 14, 14, 512)      2048      \n",
      " ation)                                                          \n",
      "                                                                 \n",
      " conv_dw_8_relu (ReLU)       (None, 14, 14, 512)       0         \n",
      "                                                                 \n",
      " conv_pw_8 (Conv2D)          (None, 14, 14, 512)       262144    \n"
     ]
    },
    {
     "name": "stdout",
     "output_type": "stream",
     "text": [
      "                                                                 \n",
      " conv_pw_8_bn (BatchNormaliz  (None, 14, 14, 512)      2048      \n",
      " ation)                                                          \n",
      "                                                                 \n",
      " conv_pw_8_relu (ReLU)       (None, 14, 14, 512)       0         \n",
      "                                                                 \n",
      " conv_dw_9 (DepthwiseConv2D)  (None, 14, 14, 512)      4608      \n",
      "                                                                 \n",
      " conv_dw_9_bn (BatchNormaliz  (None, 14, 14, 512)      2048      \n",
      " ation)                                                          \n",
      "                                                                 \n",
      " conv_dw_9_relu (ReLU)       (None, 14, 14, 512)       0         \n",
      "                                                                 \n",
      " conv_pw_9 (Conv2D)          (None, 14, 14, 512)       262144    \n",
      "                                                                 \n",
      " conv_pw_9_bn (BatchNormaliz  (None, 14, 14, 512)      2048      \n",
      " ation)                                                          \n",
      "                                                                 \n",
      " conv_pw_9_relu (ReLU)       (None, 14, 14, 512)       0         \n",
      "                                                                 \n",
      " conv_dw_10 (DepthwiseConv2D  (None, 14, 14, 512)      4608      \n",
      " )                                                               \n",
      "                                                                 \n",
      " conv_dw_10_bn (BatchNormali  (None, 14, 14, 512)      2048      \n",
      " zation)                                                         \n",
      "                                                                 \n",
      " conv_dw_10_relu (ReLU)      (None, 14, 14, 512)       0         \n",
      "                                                                 \n",
      " conv_pw_10 (Conv2D)         (None, 14, 14, 512)       262144    \n",
      "                                                                 \n",
      " conv_pw_10_bn (BatchNormali  (None, 14, 14, 512)      2048      \n",
      " zation)                                                         \n",
      "                                                                 \n",
      " conv_pw_10_relu (ReLU)      (None, 14, 14, 512)       0         \n",
      "                                                                 \n",
      " conv_dw_11 (DepthwiseConv2D  (None, 14, 14, 512)      4608      \n",
      " )                                                               \n",
      "                                                                 \n",
      " conv_dw_11_bn (BatchNormali  (None, 14, 14, 512)      2048      \n",
      " zation)                                                         \n",
      "                                                                 \n",
      " conv_dw_11_relu (ReLU)      (None, 14, 14, 512)       0         \n",
      "                                                                 \n",
      " conv_pw_11 (Conv2D)         (None, 14, 14, 512)       262144    \n",
      "                                                                 \n",
      " conv_pw_11_bn (BatchNormali  (None, 14, 14, 512)      2048      \n",
      " zation)                                                         \n",
      "                                                                 \n",
      " conv_pw_11_relu (ReLU)      (None, 14, 14, 512)       0         \n",
      "                                                                 \n",
      " conv_pad_12 (ZeroPadding2D)  (None, 15, 15, 512)      0         \n",
      "                                                                 \n",
      " conv_dw_12 (DepthwiseConv2D  (None, 7, 7, 512)        4608      \n",
      " )                                                               \n",
      "                                                                 \n",
      " conv_dw_12_bn (BatchNormali  (None, 7, 7, 512)        2048      \n",
      " zation)                                                         \n",
      "                                                                 \n",
      " conv_dw_12_relu (ReLU)      (None, 7, 7, 512)         0         \n",
      "                                                                 \n",
      " conv_pw_12 (Conv2D)         (None, 7, 7, 1024)        524288    \n",
      "                                                                 \n",
      " conv_pw_12_bn (BatchNormali  (None, 7, 7, 1024)       4096      \n",
      " zation)                                                         \n",
      "                                                                 \n",
      " conv_pw_12_relu (ReLU)      (None, 7, 7, 1024)        0         \n",
      "                                                                 \n",
      " conv_dw_13 (DepthwiseConv2D  (None, 7, 7, 1024)       9216      \n",
      " )                                                               \n",
      "                                                                 \n",
      " conv_dw_13_bn (BatchNormali  (None, 7, 7, 1024)       4096      \n",
      " zation)                                                         \n",
      "                                                                 \n",
      " conv_dw_13_relu (ReLU)      (None, 7, 7, 1024)        0         \n",
      "                                                                 \n",
      " conv_pw_13 (Conv2D)         (None, 7, 7, 1024)        1048576   \n",
      "                                                                 \n",
      " conv_pw_13_bn (BatchNormali  (None, 7, 7, 1024)       4096      \n",
      " zation)                                                         \n",
      "                                                                 \n",
      " conv_pw_13_relu (ReLU)      (None, 7, 7, 1024)        0         \n",
      "                                                                 \n",
      " global_average_pooling2d_2   (None, 1, 1, 1024)       0         \n",
      " (GlobalAveragePooling2D)                                        \n",
      "                                                                 \n",
      " dropout (Dropout)           (None, 1, 1, 1024)        0         \n",
      "                                                                 \n",
      " conv_preds (Conv2D)         (None, 1, 1, 1000)        1025000   \n",
      "                                                                 \n",
      " reshape_2 (Reshape)         (None, 1000)              0         \n",
      "                                                                 \n",
      " predictions (Activation)    (None, 1000)              0         \n",
      "                                                                 \n",
      " dense_2 (Dense)             (None, 5)                 5005      \n",
      "                                                                 \n",
      "=================================================================\n",
      "Total params: 4,258,869\n",
      "Trainable params: 2,887,029\n",
      "Non-trainable params: 1,371,840\n",
      "_________________________________________________________________\n"
     ]
    }
   ],
   "source": [
    "model.summary()"
   ]
  },
  {
   "cell_type": "markdown",
   "id": "98413376",
   "metadata": {},
   "source": [
    "__Train model__"
   ]
  },
  {
   "cell_type": "code",
   "execution_count": 83,
   "id": "505f455c",
   "metadata": {},
   "outputs": [],
   "source": [
    "model.compile(optimizer=tf.keras.optimizers.Adam(learning_rate=0.0001), loss=\"categorical_crossentropy\", metrics=[\"accuracy\"])"
   ]
  },
  {
   "cell_type": "code",
   "execution_count": 84,
   "id": "d2645704",
   "metadata": {},
   "outputs": [
    {
     "name": "stdout",
     "output_type": "stream",
     "text": [
      "Epoch 1/50\n",
      "33/33 - 24s - loss: 1.6010 - accuracy: 0.3545 - val_loss: 1.5971 - val_accuracy: 0.3867 - 24s/epoch - 715ms/step\n",
      "Epoch 2/50\n",
      "33/33 - 33s - loss: 1.5742 - accuracy: 0.6697 - val_loss: 1.5929 - val_accuracy: 0.3867 - 33s/epoch - 996ms/step\n",
      "Epoch 3/50\n",
      "33/33 - 45s - loss: 1.5581 - accuracy: 0.7970 - val_loss: 1.5890 - val_accuracy: 0.3867 - 45s/epoch - 1s/step\n",
      "Epoch 4/50\n",
      "33/33 - 38s - loss: 1.5450 - accuracy: 0.8667 - val_loss: 1.5794 - val_accuracy: 0.4533 - 38s/epoch - 1s/step\n",
      "Epoch 5/50\n",
      "33/33 - 27s - loss: 1.5378 - accuracy: 0.8788 - val_loss: 1.5684 - val_accuracy: 0.6000 - 27s/epoch - 824ms/step\n",
      "Epoch 6/50\n",
      "33/33 - 23s - loss: 1.5287 - accuracy: 0.9182 - val_loss: 1.5666 - val_accuracy: 0.5600 - 23s/epoch - 705ms/step\n",
      "Epoch 7/50\n",
      "33/33 - 24s - loss: 1.5196 - accuracy: 0.9364 - val_loss: 1.5656 - val_accuracy: 0.4933 - 24s/epoch - 742ms/step\n",
      "Epoch 8/50\n",
      "33/33 - 22s - loss: 1.5125 - accuracy: 0.9333 - val_loss: 1.5549 - val_accuracy: 0.5600 - 22s/epoch - 666ms/step\n",
      "Epoch 9/50\n",
      "33/33 - 23s - loss: 1.5048 - accuracy: 0.9455 - val_loss: 1.5435 - val_accuracy: 0.6267 - 23s/epoch - 691ms/step\n",
      "Epoch 10/50\n",
      "33/33 - 22s - loss: 1.4993 - accuracy: 0.9545 - val_loss: 1.5337 - val_accuracy: 0.6800 - 22s/epoch - 678ms/step\n",
      "Epoch 11/50\n",
      "33/33 - 21s - loss: 1.4950 - accuracy: 0.9455 - val_loss: 1.5355 - val_accuracy: 0.6667 - 21s/epoch - 649ms/step\n",
      "Epoch 12/50\n",
      "33/33 - 21s - loss: 1.4899 - accuracy: 0.9576 - val_loss: 1.5283 - val_accuracy: 0.6800 - 21s/epoch - 636ms/step\n",
      "Epoch 13/50\n",
      "33/33 - 21s - loss: 1.4839 - accuracy: 0.9667 - val_loss: 1.5209 - val_accuracy: 0.6667 - 21s/epoch - 625ms/step\n",
      "Epoch 14/50\n",
      "33/33 - 20s - loss: 1.4793 - accuracy: 0.9636 - val_loss: 1.5248 - val_accuracy: 0.6400 - 20s/epoch - 615ms/step\n",
      "Epoch 15/50\n",
      "33/33 - 21s - loss: 1.4739 - accuracy: 0.9727 - val_loss: 1.5327 - val_accuracy: 0.6133 - 21s/epoch - 644ms/step\n",
      "Epoch 16/50\n",
      "33/33 - 22s - loss: 1.4696 - accuracy: 0.9697 - val_loss: 1.5060 - val_accuracy: 0.7200 - 22s/epoch - 676ms/step\n",
      "Epoch 17/50\n",
      "33/33 - 27s - loss: 1.4646 - accuracy: 0.9758 - val_loss: 1.5056 - val_accuracy: 0.7200 - 27s/epoch - 811ms/step\n",
      "Epoch 18/50\n",
      "33/33 - 23s - loss: 1.4615 - accuracy: 0.9636 - val_loss: 1.5062 - val_accuracy: 0.7067 - 23s/epoch - 689ms/step\n",
      "Epoch 19/50\n",
      "33/33 - 22s - loss: 1.4554 - accuracy: 0.9758 - val_loss: 1.5037 - val_accuracy: 0.6800 - 22s/epoch - 674ms/step\n",
      "Epoch 20/50\n",
      "33/33 - 21s - loss: 1.4529 - accuracy: 0.9606 - val_loss: 1.4904 - val_accuracy: 0.7733 - 21s/epoch - 636ms/step\n",
      "Epoch 21/50\n",
      "33/33 - 18s - loss: 1.4468 - accuracy: 0.9758 - val_loss: 1.4924 - val_accuracy: 0.7333 - 18s/epoch - 557ms/step\n",
      "Epoch 22/50\n",
      "33/33 - 18s - loss: 1.4433 - accuracy: 0.9697 - val_loss: 1.4894 - val_accuracy: 0.7067 - 18s/epoch - 555ms/step\n",
      "Epoch 23/50\n",
      "33/33 - 18s - loss: 1.4382 - accuracy: 0.9758 - val_loss: 1.4802 - val_accuracy: 0.7200 - 18s/epoch - 542ms/step\n",
      "Epoch 24/50\n",
      "33/33 - 19s - loss: 1.4346 - accuracy: 0.9727 - val_loss: 1.4975 - val_accuracy: 0.6667 - 19s/epoch - 581ms/step\n",
      "Epoch 25/50\n",
      "33/33 - 25s - loss: 1.4301 - accuracy: 0.9788 - val_loss: 1.5028 - val_accuracy: 0.6267 - 25s/epoch - 748ms/step\n",
      "Epoch 26/50\n",
      "33/33 - 21s - loss: 1.4262 - accuracy: 0.9788 - val_loss: 1.4890 - val_accuracy: 0.6667 - 21s/epoch - 635ms/step\n",
      "Epoch 27/50\n",
      "33/33 - 22s - loss: 1.4219 - accuracy: 0.9788 - val_loss: 1.4729 - val_accuracy: 0.7333 - 22s/epoch - 657ms/step\n",
      "Epoch 28/50\n",
      "33/33 - 20s - loss: 1.4172 - accuracy: 0.9818 - val_loss: 1.4742 - val_accuracy: 0.6800 - 20s/epoch - 616ms/step\n",
      "Epoch 29/50\n",
      "33/33 - 20s - loss: 1.4143 - accuracy: 0.9818 - val_loss: 1.4865 - val_accuracy: 0.6667 - 20s/epoch - 617ms/step\n",
      "Epoch 30/50\n",
      "33/33 - 20s - loss: 1.4089 - accuracy: 0.9788 - val_loss: 1.4793 - val_accuracy: 0.6800 - 20s/epoch - 618ms/step\n",
      "Epoch 31/50\n",
      "33/33 - 21s - loss: 1.4044 - accuracy: 0.9818 - val_loss: 1.4538 - val_accuracy: 0.7733 - 21s/epoch - 629ms/step\n",
      "Epoch 32/50\n",
      "33/33 - 21s - loss: 1.4014 - accuracy: 0.9818 - val_loss: 1.4863 - val_accuracy: 0.6267 - 21s/epoch - 630ms/step\n",
      "Epoch 33/50\n",
      "33/33 - 21s - loss: 1.3960 - accuracy: 0.9818 - val_loss: 1.4877 - val_accuracy: 0.6133 - 21s/epoch - 627ms/step\n",
      "Epoch 34/50\n",
      "33/33 - 20s - loss: 1.3917 - accuracy: 0.9818 - val_loss: 1.4753 - val_accuracy: 0.6667 - 20s/epoch - 614ms/step\n",
      "Epoch 35/50\n",
      "33/33 - 22s - loss: 1.3880 - accuracy: 0.9788 - val_loss: 1.4744 - val_accuracy: 0.6267 - 22s/epoch - 671ms/step\n",
      "Epoch 36/50\n",
      "33/33 - 20s - loss: 1.3833 - accuracy: 0.9758 - val_loss: 1.4749 - val_accuracy: 0.6133 - 20s/epoch - 608ms/step\n",
      "Epoch 37/50\n",
      "33/33 - 19s - loss: 1.3782 - accuracy: 0.9818 - val_loss: 1.4878 - val_accuracy: 0.5733 - 19s/epoch - 580ms/step\n",
      "Epoch 38/50\n",
      "33/33 - 17s - loss: 1.3754 - accuracy: 0.9788 - val_loss: 1.4665 - val_accuracy: 0.6400 - 17s/epoch - 517ms/step\n",
      "Epoch 39/50\n",
      "33/33 - 17s - loss: 1.3703 - accuracy: 0.9818 - val_loss: 1.5573 - val_accuracy: 0.3867 - 17s/epoch - 519ms/step\n",
      "Epoch 40/50\n",
      "33/33 - 17s - loss: 1.3672 - accuracy: 0.9788 - val_loss: 1.5094 - val_accuracy: 0.5200 - 17s/epoch - 517ms/step\n",
      "Epoch 41/50\n",
      "33/33 - 17s - loss: 1.3698 - accuracy: 0.9636 - val_loss: 1.5022 - val_accuracy: 0.5467 - 17s/epoch - 514ms/step\n",
      "Epoch 42/50\n",
      "33/33 - 17s - loss: 1.3587 - accuracy: 0.9879 - val_loss: 1.4733 - val_accuracy: 0.6400 - 17s/epoch - 520ms/step\n",
      "Epoch 43/50\n",
      "33/33 - 17s - loss: 1.3526 - accuracy: 0.9879 - val_loss: 1.4422 - val_accuracy: 0.7067 - 17s/epoch - 509ms/step\n",
      "Epoch 44/50\n",
      "33/33 - 17s - loss: 1.3501 - accuracy: 0.9818 - val_loss: 1.4222 - val_accuracy: 0.7600 - 17s/epoch - 514ms/step\n",
      "Epoch 45/50\n",
      "33/33 - 17s - loss: 1.3474 - accuracy: 0.9818 - val_loss: 1.4182 - val_accuracy: 0.7600 - 17s/epoch - 510ms/step\n",
      "Epoch 46/50\n",
      "33/33 - 17s - loss: 1.3415 - accuracy: 0.9909 - val_loss: 1.4452 - val_accuracy: 0.6667 - 17s/epoch - 513ms/step\n",
      "Epoch 47/50\n",
      "33/33 - 17s - loss: 1.3377 - accuracy: 0.9970 - val_loss: 1.3948 - val_accuracy: 0.8000 - 17s/epoch - 514ms/step\n",
      "Epoch 48/50\n",
      "33/33 - 17s - loss: 1.3333 - accuracy: 0.9970 - val_loss: 1.3939 - val_accuracy: 0.8000 - 17s/epoch - 517ms/step\n",
      "Epoch 49/50\n",
      "33/33 - 17s - loss: 1.3290 - accuracy: 0.9970 - val_loss: 1.4034 - val_accuracy: 0.7467 - 17s/epoch - 513ms/step\n",
      "Epoch 50/50\n",
      "33/33 - 17s - loss: 1.3256 - accuracy: 0.9970 - val_loss: 1.3976 - val_accuracy: 0.7600 - 17s/epoch - 519ms/step\n"
     ]
    }
   ],
   "source": [
    "history = model.fit(x=train_batches, validation_data=valid_batches, epochs=50, verbose = 2)"
   ]
  },
  {
   "cell_type": "code",
   "execution_count": 85,
   "id": "5d2ac29e",
   "metadata": {},
   "outputs": [
    {
     "data": {
      "image/png": "[encoded data removed]",
      "text/plain": [
       "<Figure size 432x288 with 1 Axes>"
      ]
     },
     "metadata": {
      "needs_background": "light"
     },
     "output_type": "display_data"
    }
   ],
   "source": [
    "loss = history.history['loss']\n",
    "val_loss = history.history['val_loss']\n",
    "epochs = range(1, len(loss) + 1)\n",
    "plt.plot(epochs, loss, 'y', label='Training loss')\n",
    "plt.plot(epochs, val_loss, 'r', label='Validation loss')\n",
    "plt.title('Training and validation loss')\n",
    "plt.xlabel('Epochs')\n",
    "plt.ylabel('Loss')\n",
    "plt.legend()\n",
    "plt.show()"
   ]
  },
  {
   "cell_type": "code",
   "execution_count": 86,
   "id": "d3271ae6",
   "metadata": {},
   "outputs": [
    {
     "data": {
      "image/png": "[encoded data removed]",
      "text/plain": [
       "<Figure size 432x288 with 1 Axes>"
      ]
     },
     "metadata": {
      "needs_background": "light"
     },
     "output_type": "display_data"
    }
   ],
   "source": [
    "acc = history.history['accuracy']\n",
    "val_acc = history.history['val_accuracy']\n",
    "plt.plot(epochs, acc, 'y', label='Training Accuracy')\n",
    "plt.plot(epochs, val_acc, 'r', label='Validation Accuracy')\n",
    "plt.title('Training and validation Accuracy')\n",
    "plt.xlabel('Epochs')\n",
    "plt.ylabel('Accuracy')\n",
    "plt.legend()\n",
    "plt.show()"
   ]
  },
  {
   "cell_type": "code",
   "execution_count": null,
   "id": "7df78f8d",
   "metadata": {},
   "outputs": [],
   "source": []
  },
  {
   "cell_type": "markdown",
   "id": "8d9df8b3",
   "metadata": {},
   "source": [
    "__Predictions for Test Data__"
   ]
  },
  {
   "cell_type": "code",
   "execution_count": 96,
   "id": "1ae10b76",
   "metadata": {},
   "outputs": [],
   "source": [
    "def plot_confusion_matrix(cm, classes, normalize=False, title=\"Confusion Matrix\", cmap=plt.cm.Blues):\n",
    "    plt.imshow(cm,interpolation=\"nearest\", cmap=cmap)\n",
    "    plt.title(title)\n",
    "    plt.colorbar()\n",
    "    tick_marks = np.arange(len(classes))\n",
    "    plt.xticks(tick_marks, classes, rotation=45)\n",
    "    plt.yticks(tick_marks, classes)\n",
    "    \n",
    "    if normalize:\n",
    "        cm=cm.astype(\"float\")/cm.sum(axis=1)[:, np.newaxis]\n",
    "        print(\"Normalized Confusion Matrix\")\n",
    "    else:\n",
    "        print(\"Confusion Matrix without normalization\")\n",
    "    \n",
    "    print(cm)\n",
    "    \n",
    "    thresh = cm.max() / 2.\n",
    "    for i, j in itertools.product(range(cm.shape[0]), range(cm.shape[1])):\n",
    "        plt.text(j,i,cm[i,j],\n",
    "                 horizontalalignment=\"center\",\n",
    "                 color=\"white\" if cm[i,j]>thresh else \"black\")\n",
    "    \n",
    "    plt.tight_layout()\n",
    "    plt.ylabel(\"True label\")\n",
    "    plt.xlabel(\"Predicted label\")"
   ]
  },
  {
   "cell_type": "code",
   "execution_count": 97,
   "id": "ba5e3b5f",
   "metadata": {},
   "outputs": [],
   "source": [
    "test_labels = test_batches.classes\n",
    "predictions = model.predict(x=test_batches, verbose = 0)"
   ]
  },
  {
   "cell_type": "code",
   "execution_count": 98,
   "id": "c6f85a3b",
   "metadata": {},
   "outputs": [
    {
     "name": "stdout",
     "output_type": "stream",
     "text": [
      "Confusion Matrix without normalization\n",
      "[[5 0 0 0 0]\n",
      " [2 3 0 0 0]\n",
      " [0 0 5 0 0]\n",
      " [0 0 0 4 1]\n",
      " [0 1 0 0 4]]\n"
     ]
    },
    {
     "data": {
      "image/png": "[encoded data removed]",
      "text/plain": [
       "<Figure size 432x288 with 2 Axes>"
      ]
     },
     "metadata": {
      "needs_background": "light"
     },
     "output_type": "display_data"
    }
   ],
   "source": [
    "cm = confusion_matrix(y_true=test_labels, y_pred=predictions.argmax(axis=1))\n",
    "#test_batches.class_indices\n",
    "cm_plot_labels = [\"0\",\"1\",\"2\",\"3\",\"4\"]\n",
    "plot_confusion_matrix(cm=cm, classes=cm_plot_labels, title=\"Confusion Matrix\")"
   ]
  },
  {
   "cell_type": "code",
   "execution_count": null,
   "id": "96a81e45",
   "metadata": {},
   "outputs": [],
   "source": []
  },
  {
   "cell_type": "markdown",
   "id": "d30ba1f6",
   "metadata": {},
   "source": [
    "__Predictions for Textual Inversion Trained Stable Diffusion 2 generated data__"
   ]
  },
  {
   "cell_type": "code",
   "execution_count": 99,
   "id": "e8b74e91",
   "metadata": {},
   "outputs": [],
   "source": [
    "#TISD1 were images created by Stable Diffusion with prompt: \"<Cézanne> landscape painting\"\n",
    "TISD1_labels = TISD1_batches.classes"
   ]
  },
  {
   "cell_type": "code",
   "execution_count": 100,
   "id": "dcfbb2bb",
   "metadata": {},
   "outputs": [
    {
     "data": {
      "text/plain": [
       "Counter({4: 8, 0: 5, 1: 2, 3: 9})"
      ]
     },
     "execution_count": 100,
     "metadata": {},
     "output_type": "execute_result"
    }
   ],
   "source": [
    "predictions = model.predict(x=TISD1_batches, verbose = 0)\n",
    "Counter(predictions.argmax(axis=1))"
   ]
  },
  {
   "cell_type": "code",
   "execution_count": 101,
   "id": "7404e981",
   "metadata": {},
   "outputs": [
    {
     "data": {
      "text/plain": [
       "array([[0.19317651, 0.17363593, 0.17917988, 0.19765814, 0.25634953],\n",
       "       [0.19220196, 0.17258006, 0.17586823, 0.18189558, 0.27745408],\n",
       "       [0.22716014, 0.18358278, 0.18217245, 0.18815266, 0.21893199],\n",
       "       [0.25806588, 0.1766907 , 0.18146874, 0.19251741, 0.19125731],\n",
       "       [0.19422677, 0.17173302, 0.1755684 , 0.1813085 , 0.27716324],\n",
       "       [0.27176768, 0.17557654, 0.17835441, 0.18454489, 0.1897565 ],\n",
       "       [0.19220181, 0.17522416, 0.1765365 , 0.18773352, 0.26830405],\n",
       "       [0.19916429, 0.17985898, 0.1888018 , 0.21244879, 0.21972615],\n",
       "       [0.2523056 , 0.17668685, 0.18050718, 0.18530492, 0.20519552],\n",
       "       [0.19644153, 0.24674208, 0.17998303, 0.19682474, 0.18000868],\n",
       "       [0.19224048, 0.17147867, 0.1753725 , 0.18111357, 0.2797948 ],\n",
       "       [0.18455811, 0.17262916, 0.18586771, 0.25386924, 0.20307578],\n",
       "       [0.18208498, 0.16843404, 0.1777638 , 0.27076307, 0.20095405],\n",
       "       [0.18276608, 0.16946986, 0.18049416, 0.2659202 , 0.20134966],\n",
       "       [0.1816698 , 0.1671322 , 0.17758073, 0.2723773 , 0.20123996],\n",
       "       [0.25529093, 0.17703468, 0.18119894, 0.19096833, 0.19550714],\n",
       "       [0.18168026, 0.16714242, 0.177589  , 0.27234617, 0.20124225],\n",
       "       [0.18857692, 0.17892621, 0.1879455 , 0.24964862, 0.19490278],\n",
       "       [0.19062541, 0.1709793 , 0.17856221, 0.25926384, 0.20056918],\n",
       "       [0.19190358, 0.17142463, 0.17527346, 0.18103005, 0.2803682 ],\n",
       "       [0.19879687, 0.22997142, 0.18391217, 0.19953923, 0.18778028],\n",
       "       [0.19932853, 0.20167533, 0.1931203 , 0.20397533, 0.20190051],\n",
       "       [0.19087653, 0.17144829, 0.17654833, 0.19607633, 0.2650506 ],\n",
       "       [0.19213206, 0.1943964 , 0.18501306, 0.22589375, 0.2025647 ]],\n",
       "      dtype=float32)"
      ]
     },
     "execution_count": 101,
     "metadata": {},
     "output_type": "execute_result"
    }
   ],
   "source": [
    "predictions"
   ]
  },
  {
   "cell_type": "code",
   "execution_count": null,
   "id": "58bc3353",
   "metadata": {},
   "outputs": [],
   "source": []
  },
  {
   "cell_type": "code",
   "execution_count": 102,
   "id": "f0177303",
   "metadata": {},
   "outputs": [],
   "source": [
    "#TISD2 were images created by Stable Diffusion with prompt: \"<Cézanne>\"\n",
    "TISD2_labels = TISD2_batches.classes"
   ]
  },
  {
   "cell_type": "code",
   "execution_count": 103,
   "id": "9214274f",
   "metadata": {},
   "outputs": [
    {
     "data": {
      "text/plain": [
       "Counter({3: 11, 0: 12, 1: 1})"
      ]
     },
     "execution_count": 103,
     "metadata": {},
     "output_type": "execute_result"
    }
   ],
   "source": [
    "predictions = model.predict(x=TISD2_batches, verbose = 0)\n",
    "Counter(predictions.argmax(axis=1))"
   ]
  },
  {
   "cell_type": "code",
   "execution_count": 104,
   "id": "ddd0f2e1",
   "metadata": {},
   "outputs": [
    {
     "data": {
      "text/plain": [
       "array([[0.18166846, 0.16712862, 0.17757154, 0.27239206, 0.20123927],\n",
       "       [0.18846904, 0.17014539, 0.1936475 , 0.25621897, 0.19151905],\n",
       "       [0.18980178, 0.18797007, 0.19706662, 0.22412744, 0.201034  ],\n",
       "       [0.27295724, 0.17625047, 0.17851877, 0.18283561, 0.18943794],\n",
       "       [0.23009259, 0.17410152, 0.18666545, 0.21729136, 0.19184905],\n",
       "       [0.2638959 , 0.1804982 , 0.1812153 , 0.18446235, 0.18992831],\n",
       "       [0.19493514, 0.22893807, 0.19952987, 0.19506083, 0.18153602],\n",
       "       [0.18166772, 0.16712661, 0.17757091, 0.2723953 , 0.20123942],\n",
       "       [0.23861527, 0.19483988, 0.18614241, 0.18866307, 0.19173928],\n",
       "       [0.18328011, 0.17014007, 0.21171029, 0.24458097, 0.19028856],\n",
       "       [0.18226989, 0.16880633, 0.17862594, 0.26909947, 0.20119828],\n",
       "       [0.23555471, 0.19084129, 0.18573985, 0.19550547, 0.19235878],\n",
       "       [0.24459475, 0.1930945 , 0.18358462, 0.188667  , 0.19005916],\n",
       "       [0.20733951, 0.17095481, 0.17917527, 0.24338603, 0.19914442],\n",
       "       [0.27372184, 0.17566606, 0.17826644, 0.1829485 , 0.18939707],\n",
       "       [0.27432692, 0.17549893, 0.17827938, 0.18257655, 0.18931822],\n",
       "       [0.26211035, 0.17827632, 0.18068135, 0.18873611, 0.19019583],\n",
       "       [0.18167855, 0.16713966, 0.17761849, 0.27233106, 0.2012322 ],\n",
       "       [0.27324316, 0.17581406, 0.17842062, 0.1831714 , 0.18935077],\n",
       "       [0.23733166, 0.17448135, 0.1854303 , 0.21114592, 0.19161075],\n",
       "       [0.27438545, 0.17550516, 0.17820548, 0.18258482, 0.18931912],\n",
       "       [0.18166764, 0.16712652, 0.1775709 , 0.2723955 , 0.2012394 ],\n",
       "       [0.18225406, 0.16723986, 0.17763591, 0.27166817, 0.2012021 ],\n",
       "       [0.18166763, 0.1671265 , 0.17757082, 0.27239558, 0.20123942]],\n",
       "      dtype=float32)"
      ]
     },
     "execution_count": 104,
     "metadata": {},
     "output_type": "execute_result"
    }
   ],
   "source": [
    "predictions"
   ]
  },
  {
   "cell_type": "code",
   "execution_count": null,
   "id": "82df0550",
   "metadata": {},
   "outputs": [],
   "source": []
  }
 ],
 "metadata": {
  "kernelspec": {
   "display_name": "Python 3 (ipykernel)",
   "language": "python",
   "name": "python3"
  },
  "language_info": {
   "codemirror_mode": {
    "name": "ipython",
    "version": 3
   },
   "file_extension": ".py",
   "mimetype": "text/x-python",
   "name": "python",
   "nbconvert_exporter": "python",
   "pygments_lexer": "ipython3",
   "version": "3.9.7"
  },
  "toc": {
   "base_numbering": 1,
   "nav_menu": {},
   "number_sections": true,
   "sideBar": true,
   "skip_h1_title": false,
   "title_cell": "Table of Contents",
   "title_sidebar": "Contents",
   "toc_cell": false,
   "toc_position": {},
   "toc_section_display": true,
   "toc_window_display": false
  }
 },
 "nbformat": 4,
 "nbformat_minor": 5
}
